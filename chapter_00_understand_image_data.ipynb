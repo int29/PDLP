{
  "nbformat": 4,
  "nbformat_minor": 0,
  "metadata": {
    "colab": {
      "provenance": [],
      "authorship_tag": "ABX9TyOqVc371wK6rXQp0IQughft",
      "include_colab_link": true
    },
    "kernelspec": {
      "name": "python3",
      "display_name": "Python 3"
    },
    "language_info": {
      "name": "python"
    }
  },
  "cells": [
    {
      "cell_type": "markdown",
      "metadata": {
        "id": "view-in-github",
        "colab_type": "text"
      },
      "source": [
        "<a href=\"https://colab.research.google.com/github/int29/PDLP/blob/main/chapter_00_understand_image_data.ipynb\" target=\"_parent\"><img src=\"https://colab.research.google.com/assets/colab-badge.svg\" alt=\"Open In Colab\"/></a>"
      ]
    },
    {
      "cell_type": "markdown",
      "source": [
        "# 내가쓰려고 만든 pytorch로 구현하는 신경망 부터 LLM 까지\n",
        "* INT29\n",
        "* Start_Date : 2024-01-24\n",
        "* End_Date :\n",
        "\n",
        "## Chapter 00. CIFAL10 데이터를 통한 이미지 데이터의 이해\n"
      ],
      "metadata": {
        "id": "BJjIriFxK0vp"
      }
    },
    {
      "cell_type": "markdown",
      "source": [
        "### 목표\n",
        "* 이미지 데이터의 3차원 텐서 구조에 대해 이해한다."
      ],
      "metadata": {
        "id": "AtHtKgm4NbeX"
      }
    },
    {
      "cell_type": "markdown",
      "source": [
        "### 환경\n",
        "\n",
        "* 런타임 유형 : CPU + Low RAM (No GPU)"
      ],
      "metadata": {
        "id": "eScXN8OCK-vo"
      }
    },
    {
      "cell_type": "code",
      "source": [
        "# python 버전\n",
        "!python --version"
      ],
      "metadata": {
        "colab": {
          "base_uri": "https://localhost:8080/"
        },
        "id": "rjVoYXOuLIf8",
        "outputId": "8983a71f-2309-449d-b500-e511862feb65"
      },
      "execution_count": 3,
      "outputs": [
        {
          "output_type": "stream",
          "name": "stdout",
          "text": [
            "Python 3.10.12\n"
          ]
        }
      ]
    },
    {
      "cell_type": "code",
      "source": [
        "# torch, torchvision 버전\n",
        "\n",
        "import torch, torchvision\n",
        "print(torch.__version__)\n",
        "print(torchvision.__version__)\n"
      ],
      "metadata": {
        "colab": {
          "base_uri": "https://localhost:8080/"
        },
        "id": "9tVMVJLULLB7",
        "outputId": "db00c7cb-a552-4d21-af27-ee1a1b25e647"
      },
      "execution_count": 2,
      "outputs": [
        {
          "output_type": "stream",
          "name": "stdout",
          "text": [
            "2.1.0+cu121\n",
            "0.16.0+cu121\n"
          ]
        }
      ]
    },
    {
      "cell_type": "markdown",
      "source": [
        "## 라이브러리 로드"
      ],
      "metadata": {
        "id": "1OcE0MMFLh3S"
      }
    },
    {
      "cell_type": "code",
      "execution_count": 17,
      "metadata": {
        "id": "q1WTLIxRKkYx"
      },
      "outputs": [],
      "source": [
        "# warnings off\n",
        "import warnings\n",
        "warnings.filterwarnings('ignore')\n",
        "\n",
        "import numpy as np\n",
        "import matplotlib.pyplot as plt\n",
        "\n",
        "import torch\n",
        "import torchvision\n",
        "import torchvision.transforms as transforms\n",
        "\n",
        "from torchvision.transforms import ToTensor\n",
        "%matplotlib inline"
      ]
    },
    {
      "cell_type": "markdown",
      "source": [
        "## 데이터 로드"
      ],
      "metadata": {
        "id": "3ihH6agPN_fP"
      }
    },
    {
      "cell_type": "markdown",
      "source": [
        "### 데이터 소개: CIFAR 10\n",
        "\n",
        "1. CIFAR10은 총 10종류의 레이블이 존재하는 32x32이미지의 모음.\n",
        "2. 재프리힌튼이 이끄는 캐나다의 토론토 대학에서 만든 데이터로 오픈소스로 공개함.\n",
        "  - 링크 : https://www.cs.toronto.edu/~kriz/cifar.html\n",
        "3. 이미지 분류모델의 벤치마크 부터 예제까지 널리 쓰이는 데이터로 torchvision라이브러리에 기본으로 존재해 편하게 로드할 수 있다.\n",
        "3. 일반적으로 제일 단순한 단일 신경망에서 40%대의 이미지 클래스 분류 정확도를 보임.\n",
        "4. 아무리 간단한 모델이라도 97%이상의 성능을 보이는 MNIST보다 아키텍쳐, 모델변경, 하이퍼파라미터 튜닝 등으로 향상되는 정확도는 90%이상까지 올릴 수 있어 딥러닝에 대해 공부하기 매우 적절한 데이터이다."
      ],
      "metadata": {
        "id": "kab5PBpRSKHu"
      }
    },
    {
      "cell_type": "code",
      "source": [
        "# CIFAR10 데이터 로드\n",
        "# transform=transforms.ToTensor() : 이미지 데이터를 로드해 pytorch Tensor타입으로 변경\n",
        "training_dataset = torchvision.datasets.CIFAR10(root='./data', train=True, download=True, transform=transforms.ToTensor())\n",
        "training_loader = torch.utils.data.DataLoader(training_dataset, batch_size=4, shuffle=True)\n",
        "\n",
        "# classes 정의 (원본데이터에는 숫자로 인코딩되어 있어 보기 편하라고 텍스트라 레이블을 만듦)\n",
        "classes = ('plane', 'car', 'bird', 'cat', 'deer', 'dog', 'frog', 'horse', 'ship', 'truck')"
      ],
      "metadata": {
        "colab": {
          "base_uri": "https://localhost:8080/"
        },
        "id": "Q567kIJpKsA1",
        "outputId": "d56da519-b193-4819-9e30-01f74dcdda67"
      },
      "execution_count": 49,
      "outputs": [
        {
          "output_type": "stream",
          "name": "stdout",
          "text": [
            "Files already downloaded and verified\n"
          ]
        }
      ]
    },
    {
      "cell_type": "markdown",
      "source": [
        "### 이미지 살펴보기"
      ],
      "metadata": {
        "id": "tpy548h7R7pi"
      }
    },
    {
      "cell_type": "code",
      "source": [
        "# 랜덤으로 4개의 이미지를 보여주는 함수\n",
        "def imshow(img):\n",
        "    plt.figure(figsize=(10, 5))                     # 차트사이즈 조정\n",
        "    npimg = img.numpy()                             # Tensor를 numpy array로 변환\n",
        "    plt.imshow(np.transpose(npimg, (1, 2, 0)))\n",
        "    #plt.show()\n",
        "\n",
        "# 훈련 데이터에서 일부 이미지 가져오기\n",
        "dataiter = iter(training_loader)\n",
        "\n",
        "# training_loader는 이미지에서 1회 itter당 batch_size 만큼의 이미지를 내보낸다.\n",
        "# 따라서 batch_size=4 이기 때문에 images, labels 에는 4개의 이미지가 할당됨\n",
        "images, labels = next(dataiter)\n",
        "\n",
        "# 이미지 보여주기\n",
        "imshow(torchvision.utils.make_grid(images))\n",
        "\n",
        "# 레이블 출력\n",
        "print(' '.join('%5s' % classes[labels[j]] for j in range(4)))"
      ],
      "metadata": {
        "colab": {
          "base_uri": "https://localhost:8080/",
          "height": 282
        },
        "id": "dgPZ-TVRL6-T",
        "outputId": "6a33c90c-a4c9-4e7f-c3ef-0374080fbca1"
      },
      "execution_count": 61,
      "outputs": [
        {
          "output_type": "stream",
          "name": "stdout",
          "text": [
            "  dog   dog   dog   cat\n"
          ]
        },
        {
          "output_type": "display_data",
          "data": {
            "text/plain": [
              "<Figure size 1000x500 with 1 Axes>"
            ],
            "image/png": "[encoded data removed]"
          },
          "metadata": {}
        }
      ]
    },
    {
      "cell_type": "code",
      "source": [
        "# 1번째 이미지 갖고오기\n",
        "print(images[0].shape)\n",
        "imshow(images[0])\n",
        "plt.title(classes[labels[0]])"
      ],
      "metadata": {
        "colab": {
          "base_uri": "https://localhost:8080/",
          "height": 502
        },
        "id": "QTYFd5CSRX8h",
        "outputId": "aa9e2b79-856f-4646-b6bd-3d3445947183"
      },
      "execution_count": 62,
      "outputs": [
        {
          "output_type": "stream",
          "name": "stdout",
          "text": [
            "torch.Size([3, 32, 32])\n"
          ]
        },
        {
          "output_type": "execute_result",
          "data": {
            "text/plain": [
              "Text(0.5, 1.0, 'dog')"
            ]
          },
          "metadata": {},
          "execution_count": 62
        },
        {
          "output_type": "display_data",
          "data": {
            "text/plain": [
              "<Figure size 1000x500 with 1 Axes>"
            ],
            "image/png": "[encoded data removed]"
          },
          "metadata": {}
        }
      ]
    },
    {
      "cell_type": "markdown",
      "source": [
        "* 이미지 데이터는 너비(W),높이(H),채널(C)인 숫자로 표현 할 수 있다.\n",
        "* 또한 이미지는 RGB 3가지 색깔의 조합으로 모든 색상을 표현할 수 있는데, 이 RGB색상값을 채널(C) 이라고함.\n",
        "* 즉 pytorch는 이미지를 로드해 `채널(C), 너비(W),높이(H)` 인 3차원의 텐서로 이미지 데이터를 표현하는 것을 확인할 수 있다.\n",
        "\n",
        "```python\n",
        "# 채널(C):3, 너비(W):32, 높이(H):32\n",
        "torch.Size([3, 32, 32])\n",
        "```\n",
        "\n",
        "* 위 그림에서 작은 사각형 격자가 보일텐데, 이 1칸을 픽셀이라는 단위이다. 즉 , 32x32라는 것은 이 픽셀이 가로로 32개 세로로 32개로 총 1024개의 픽셀로 구성되었다는 뜻이다.\n",
        "* 이를 테서 구조로 살펴보면 아래 각각 텐서의 원소는 1개의 픽셀을 의미하는 것과 동일하다.\n",
        "* 이 때 픽셀이 일종의 그릇이라면, 이 픽셀에 들어가는 값은 RGB채널의 값을 의미한다.\n",
        "* 2차원 평면으로 텐서를 표현하다 보니, 3개의 32x32가 세로로 쌓여있는 형태처럼 보이지만, 3차원 텐서이기 때문에 사실은 R채널 32x32, G채널 32x32, B채널 32x32 3개의 판이 겹쳐 있는 구조이다.\n",
        "* 즉, 첫번째 값인 0.4431는 1픽셀에 들어가는 RGB값 중 R채널의 값이 0.4431임을 의미한다.(자세한 설명은 github의 PPT 참고)\n",
        "\n",
        "```python\n",
        "# 그림은 랜덤으로 뽑기 때문에 재실행시 아래 값과 다를 수 있음.\n",
        "\n",
        "       [[[0.4431, 0.5725, 0.5608,  ..., 0.8980, 0.8980, 0.9020], # R채널 32x32\n",
        "         [0.4000, 0.4706, 0.4667,  ..., 0.8902, 0.8980, 0.8941],\n",
        "         [0.3098, 0.3961, 0.4039,  ..., 0.8980, 0.9059, 0.8980],\n",
        "         ...,\n",
        "         [0.2706, 0.2745, 0.2784,  ..., 0.5804, 0.6078, 0.6353],\n",
        "         [0.2667, 0.2667, 0.2745,  ..., 0.6039, 0.6745, 0.7412],\n",
        "         [0.2471, 0.2510, 0.2588,  ..., 0.8314, 0.8706, 0.9216]],\n",
        "\n",
        "        [[0.4314, 0.5176, 0.4863,  ..., 0.1529, 0.1529, 0.1569], # G채널 32x32\n",
        "         [0.3843, 0.4157, 0.4039,  ..., 0.1490, 0.1569, 0.1529],\n",
        "         [0.2941, 0.3373, 0.3255,  ..., 0.1529, 0.1647, 0.1529],\n",
        "         ...,\n",
        "         [0.2863, 0.2902, 0.2902,  ..., 0.0353, 0.0353, 0.0431],\n",
        "         [0.2824, 0.2824, 0.2784,  ..., 0.0431, 0.0549, 0.0902],\n",
        "         [0.2627, 0.2667, 0.2627,  ..., 0.1647, 0.2000, 0.2314]],\n",
        "\n",
        "        [[0.2941, 0.3961, 0.3843,  ..., 0.0196, 0.0118, 0.0157], # B채널 32x32\n",
        "         [0.2863, 0.3059, 0.2902,  ..., 0.0196, 0.0157, 0.0118],\n",
        "         [0.1922, 0.2314, 0.2118,  ..., 0.0235, 0.0196, 0.0118],\n",
        "         ...,\n",
        "         [0.2980, 0.3020, 0.3020,  ..., 0.0353, 0.0235, 0.0196],\n",
        "         [0.2941, 0.2941, 0.2980,  ..., 0.0196, 0.0039, 0.0039],\n",
        "         [0.2745, 0.2784, 0.2824,  ..., 0.0235, 0.0157, 0.0157]]]\n",
        "```"
      ],
      "metadata": {
        "id": "-szX3bbZT6jX"
      }
    },
    {
      "cell_type": "code",
      "source": [
        "images[0]"
      ],
      "metadata": {
        "colab": {
          "base_uri": "https://localhost:8080/"
        },
        "id": "zCJifrLFT6UI",
        "outputId": "64caa7a2-c2a9-4446-ea9f-c13e7b3c18d5"
      },
      "execution_count": 64,
      "outputs": [
        {
          "output_type": "execute_result",
          "data": {
            "text/plain": [
              "tensor([[[0.4431, 0.5725, 0.5608,  ..., 0.8980, 0.8980, 0.9020],\n",
              "         [0.4000, 0.4706, 0.4667,  ..., 0.8902, 0.8980, 0.8941],\n",
              "         [0.3098, 0.3961, 0.4039,  ..., 0.8980, 0.9059, 0.8980],\n",
              "         ...,\n",
              "         [0.2706, 0.2745, 0.2784,  ..., 0.5804, 0.6078, 0.6353],\n",
              "         [0.2667, 0.2667, 0.2745,  ..., 0.6039, 0.6745, 0.7412],\n",
              "         [0.2471, 0.2510, 0.2588,  ..., 0.8314, 0.8706, 0.9216]],\n",
              "\n",
              "        [[0.4314, 0.5176, 0.4863,  ..., 0.1529, 0.1529, 0.1569],\n",
              "         [0.3843, 0.4157, 0.4039,  ..., 0.1490, 0.1569, 0.1529],\n",
              "         [0.2941, 0.3373, 0.3255,  ..., 0.1529, 0.1647, 0.1529],\n",
              "         ...,\n",
              "         [0.2863, 0.2902, 0.2902,  ..., 0.0353, 0.0353, 0.0431],\n",
              "         [0.2824, 0.2824, 0.2784,  ..., 0.0431, 0.0549, 0.0902],\n",
              "         [0.2627, 0.2667, 0.2627,  ..., 0.1647, 0.2000, 0.2314]],\n",
              "\n",
              "        [[0.2941, 0.3961, 0.3843,  ..., 0.0196, 0.0118, 0.0157],\n",
              "         [0.2863, 0.3059, 0.2902,  ..., 0.0196, 0.0157, 0.0118],\n",
              "         [0.1922, 0.2314, 0.2118,  ..., 0.0235, 0.0196, 0.0118],\n",
              "         ...,\n",
              "         [0.2980, 0.3020, 0.3020,  ..., 0.0353, 0.0235, 0.0196],\n",
              "         [0.2941, 0.2941, 0.2980,  ..., 0.0196, 0.0039, 0.0039],\n",
              "         [0.2745, 0.2784, 0.2824,  ..., 0.0235, 0.0157, 0.0157]]])"
            ]
          },
          "metadata": {},
          "execution_count": 64
        }
      ]
    },
    {
      "cell_type": "markdown",
      "source": [
        "* 따라서 아래처럼 각 RGB에 해당하는 32x32의 판값을 의도적으로 수정할 경우 각 채널에 해당하는 색만 남게되는것을 알 수 있다."
      ],
      "metadata": {
        "id": "Pvd20Rp8YnAn"
      }
    },
    {
      "cell_type": "code",
      "source": [
        "# 각 채널을 분리하고, 나머지 채널을 0으로 설정\n",
        "R_channel = images[0].clone()                    # img텐서 복사\n",
        "R_channel[1, :, :] = 0  # G 채널을 0으로\n",
        "R_channel[2, :, :] = 0  # B 채널을 0으로\n",
        "R_channel = R_channel.permute(1, 2, 0)     # C, H, W 순서를 H, W, C로 변경 (시각화 때문에)\n",
        "\n",
        "G_channel = images[0].clone()                    # img텐서 복사\n",
        "G_channel[0, :, :] = 0  # R 채널을 0으로\n",
        "G_channel[2, :, :] = 0  # B 채널을 0으로\n",
        "G_channel = G_channel.permute(1, 2, 0)     # C, H, W 순서를 H, W, C로 변경 (시각화 때문에)\n",
        "\n",
        "B_channel = images[0].clone()                    # img텐서 복사\n",
        "B_channel[0, :, :] = 0  # R 채널을 0으로\n",
        "B_channel[1, :, :] = 0  # G 채널을 0으로\n",
        "B_channel = B_channel.permute(1, 2, 0)     # C, H, W 순서를 H, W, C로 변경 (시각화 때문에)\n",
        "\n",
        "# 이미지 시각화\n",
        "fig, axs = plt.subplots(1, 3, figsize=(10, 5))  # 축 제거 3개의 사진을 표시할 수 있도록 subplot생성\n",
        "\n",
        "axs[0].imshow(R_channel)  # 첫 번째 서브플롯에 R_channel 시각화\n",
        "axs[1].imshow(G_channel)  # 두 번째 서브플롯에 G_channel 시각화\n",
        "axs[2].imshow(B_channel)  # 세 번째 서브플롯에 B_channel 시각화\n",
        "\n",
        "# 서브플롯의 레이아웃 조정\n",
        "plt.tight_layout()\n",
        "plt.show()"
      ],
      "metadata": {
        "colab": {
          "base_uri": "https://localhost:8080/",
          "height": 347
        },
        "id": "sDiwR8MVSlop",
        "outputId": "9825608c-6830-480b-b0eb-ca0da05714e2"
      },
      "execution_count": 68,
      "outputs": [
        {
          "output_type": "display_data",
          "data": {
            "text/plain": [
              "<Figure size 1000x500 with 3 Axes>"
            ],
            "image/png": "[encoded data removed]"
          },
          "metadata": {}
        }
      ]
    },
    {
      "cell_type": "markdown",
      "source": [
        "* 이미지를 형태로 가시적으로 표현하면 사진과 같지만, PyTorch,Tensorflow와 같은 딥러닝 프레임워크는 텐서(Tensor)라는 다차원 Array 숫자형태로 처리하고 계산함.\n",
        "* 이미지를 텐서라는 다차원 Array로 표현이 가능하다는 것은 이미지를 좌표 평면 상에 한 점으로 표시가 가능하다는 것을 의미하며\n",
        "* 좌표 평면 상에 한 점으로 표시가 가능한 것(=벡터표현=임베딩)은 거리의 개념을 통해 이미지 분류 부터 의미론적인 모든 연산이 가능함을 의미한다."
      ],
      "metadata": {
        "id": "f3pavogOY1AC"
      }
    },
    {
      "cell_type": "code",
      "source": [],
      "metadata": {
        "id": "K3-A4jVmXaW2"
      },
      "execution_count": null,
      "outputs": []
    }
  ]
}