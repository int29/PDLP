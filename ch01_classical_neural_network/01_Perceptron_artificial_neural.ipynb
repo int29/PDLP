{
 "cells": [
  {
   "cell_type": "markdown",
   "id": "eafd0166-f68a-4c31-8f1a-1f444f9c373b",
   "metadata": {},
   "source": [
    "# Practical Deep-Learning using Pytorch\n",
    "* project start : 2023-03-23\n",
    "* project end : \n",
    "* wirter : Int29\n",
    "* github : https://github.com/int29/PDLP\n",
    "* project description : 처음부터 다시 딥러닝 공부를 하면서 공부한 내용을 정리함."
   ]
  },
  {
   "cell_type": "markdown",
   "id": "348c4f06-7750-4541-a393-b192afdd0340",
   "metadata": {},
   "source": [
    "## Chapter01 : classical artificial neural network"
   ]
  },
  {
   "cell_type": "markdown",
   "id": "392f247d-a7d4-4686-9045-6d50391a742a",
   "metadata": {
    "tags": []
   },
   "source": [
    "### 01.퍼셉트론(Perceptron) : Artificial neuron\n",
    "\n",
    "퍼셉트론은 1957년 로젠 블릿이 MCP뉴런모형을 기반으로 입력값과 가중치(weight)를 곱한 값과 편향(bias)을 더한 결과에 활성화 함수(activation function)를 적용하여 출력값을 계산하는 학습알고리즘을 발표하며 탄생하였다 \n",
    "\n",
    "로젠 블릿이 차용한 MCP뉴런모형이란 실제 뉴런이 수상돌기를 통해 전달된 신호가 임계치 이상으로 전달될 때 전기신호를 출력하는것을 수학적으로 모델링한 것이다. MPC모형에서 뉴런은 0과1의 이진(binary)값을 입력받고 출력하며 각 입력 신호에 가중치(weight)를 곱한값의 합이 임계값(threshold)을 넘으면 1, 그렇지 않으면 0을 반환한다.\n",
    "<br><br><br>\n",
    "\n",
    "$$\\begin{equation}\n",
    "  f(x)=\\left\\{\n",
    "  \\begin{array}{@{}ll@{}}\n",
    "    0, & \\text{if}\\ w_{1}x_{1} + w_{2}x_{2} + ... w_{n}x_{n} < \\theta \\\\\n",
    "    1, & \\text{if} \\ w_{1}x_{1} + w_{2}x_{2} + ... w_{n}x_{n} >= \\theta \\\\\n",
    "  \\end{array}\\right.\n",
    "\\end{equation} \n",
    "$$\n",
    "\n",
    "<br><br><br>\n",
    "<div align=\"center\">\n",
    "    <img src=\"https://github.com/int29/PDLP/blob/main/ch01_classical_neural_network/01_01.jpeg?raw=true\" width=\"300\">\n",
    "    <span>[그림01-01]</span>\n",
    "</div>"
   ]
  },
  {
   "cell_type": "code",
   "execution_count": null,
   "id": "e2a83831-874f-4daa-9d28-836990480b0c",
   "metadata": {},
   "outputs": [],
   "source": []
  },
  {
   "cell_type": "markdown",
   "id": "530ee3bf-363c-47ea-9e56-4ff98d40d32b",
   "metadata": {
    "tags": []
   },
   "source": [
    "$^{[1]}$ : 파이썬 머신러닝(2016),세바스티안 라슈카,지앤선,PACKT, 17p~18p\n",
    "\n",
    "<원문>\n",
    "\n",
    "워런 맥컬럭과 월터 피츠가 맥컬럭-피츠(MCP) 뉴런이라고 불리는 단순화된 뇌 세포의 개념을 1943년 처음 발표하면서 시작되었다.(A Logical Calculus of the Ideas Immanent in Nervous Activity by W. S. McCulloch and W. Pitts, Bulletin of Mathematical Biophysics, 5(4): 115-133, 1943), 메컬렉과 피츠는 이러한 신경세포를 바이너리 출력을 갖는 간단한 논리 게이트로 설명했다. 복수의 신호가 수상돌기에 도달하면 세포체에 통합된다. 그리고 신호가 누적되어 특정 임계치를 초과하면 출력 신호가 생성되고 축색돌기를 지나간다."
   ]
  },
  {
   "cell_type": "markdown",
   "id": "91b0d187",
   "metadata": {},
   "source": [
    "#### 이미지 및 자료 출처\n",
    "[그림01-01] : 비상학습백과 중학교 과학 ② 뉴런(https://terms.naver.com/entry.naver?docId=3379489&cid=47339&categoryId=47339)"
   ]
  },
  {
   "cell_type": "code",
   "execution_count": null,
   "id": "e5475a2f",
   "metadata": {},
   "outputs": [],
   "source": []
  }
 ],
 "metadata": {
  "kernelspec": {
   "display_name": "jupyter",
   "language": "python",
   "name": "jupyter"
  },
  "language_info": {
   "codemirror_mode": {
    "name": "ipython",
    "version": 3
   },
   "file_extension": ".py",
   "mimetype": "text/x-python",
   "name": "python",
   "nbconvert_exporter": "python",
   "pygments_lexer": "ipython3",
   "version": "3.10.9"
  }
 },
 "nbformat": 4,
 "nbformat_minor": 5
}
