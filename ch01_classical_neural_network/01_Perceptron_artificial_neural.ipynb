{
 "cells": [
  {
   "cell_type": "markdown",
   "id": "eafd0166-f68a-4c31-8f1a-1f444f9c373b",
   "metadata": {},
   "source": [
    "# Practical Deep-Learning using Pytorch\n",
    "* project start : 2023-03-23\n",
    "* project end : \n",
    "* wirter : Int29\n",
    "* github : https://github.com/int29/PDLP\n",
    "* project description : 처음부터 다시 딥러닝 공부를 하면서 공부한 내용을 정리함."
   ]
  },
  {
   "cell_type": "markdown",
   "id": "348c4f06-7750-4541-a393-b192afdd0340",
   "metadata": {},
   "source": [
    "## Chapter01 : classical artificial neural network"
   ]
  },
  {
   "cell_type": "markdown",
   "id": "392f247d-a7d4-4686-9045-6d50391a742a",
   "metadata": {
    "tags": []
   },
   "source": [
    "### 01.퍼셉트론(Perceptron) : Artificial neuron\n",
    "\n",
    "퍼셉트론은 1943년 워런 맥컬럭과 월터 피츠가 뉴런을 바이너리 출력을 갖는 간단한 논리 게이트인 MCP뉴런으로 단순화시키면서 시작되었다.$^{[1]}$ 이 MCP뉴런은 뉴런은 수상돌기에 화학 물질이 전달되고 일정 수치의 시호가 누적되면 뉴런의 핵으로 부터  \n",
    "\n",
    "<img src=\"https://dbscthumb-phinf.pstatic.net/4023_000_1/20160426174556078_33FGFEA0M.jpg/vm_sc2072_01_i01.jpg\">"
   ]
  },
  {
   "cell_type": "code",
   "execution_count": null,
   "id": "9304abb0-8461-41e8-8c51-96453d3dd828",
   "metadata": {},
   "outputs": [],
   "source": []
  },
  {
   "cell_type": "code",
   "execution_count": null,
   "id": "0935603d-5407-4b1e-94da-7e85ef75abe7",
   "metadata": {},
   "outputs": [],
   "source": []
  },
  {
   "cell_type": "code",
   "execution_count": null,
   "id": "e2a83831-874f-4daa-9d28-836990480b0c",
   "metadata": {},
   "outputs": [],
   "source": []
  },
  {
   "cell_type": "markdown",
   "id": "530ee3bf-363c-47ea-9e56-4ff98d40d32b",
   "metadata": {
    "tags": []
   },
   "source": [
    "$^{[1]}$ : 워런 맥컬럭과 월터 피츠가 맥컬럭-피츠(MCP) 뉴런이라고 불리는 단순화된 뇌 세포의 개념을 1943년 처음 발표하면서 시작되었다.(A Logical Calculus of the Ideas Immanent in Nervous Activity by W. S. McCulloch and W. Pitts, Bulletin of Mathematical Biophysics, 5(4): 115-133, 1943)"
   ]
  },
  {
   "cell_type": "markdown",
   "id": "6aa4a643",
   "metadata": {},
   "source": [
    "#### 이미지 및 자료 출처\n",
    "[그림01-01] : https://terms.naver.com/entry.naver?docId=3379489&cid=47339&categoryId=47339"
   ]
  },
  {
   "cell_type": "code",
   "execution_count": null,
   "id": "66bd0599",
   "metadata": {},
   "outputs": [],
   "source": []
  }
 ],
 "metadata": {
  "kernelspec": {
   "display_name": "jupyter",
   "language": "python",
   "name": "jupyter"
  },
  "language_info": {
   "codemirror_mode": {
    "name": "ipython",
    "version": 3
   },
   "file_extension": ".py",
   "mimetype": "text/x-python",
   "name": "python",
   "nbconvert_exporter": "python",
   "pygments_lexer": "ipython3",
   "version": "3.10.9"
  }
 },
 "nbformat": 4,
 "nbformat_minor": 5
}
