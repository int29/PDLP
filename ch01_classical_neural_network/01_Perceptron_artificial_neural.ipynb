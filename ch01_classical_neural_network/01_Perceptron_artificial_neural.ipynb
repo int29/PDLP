{
 "cells": [
  {
   "cell_type": "markdown",
   "id": "eafd0166-f68a-4c31-8f1a-1f444f9c373b",
   "metadata": {},
   "source": [
    "# Practical Deep-Learning using Pytorch\n",
    "* project start : 2023-03-23\n",
    "* project end : \n",
    "* wirter : Int29\n",
    "* github : https://github.com/int29/PDLP\n",
    "* project description : 처음부터 다시 딥러닝 공부를 하면서 공부한 내용을 정리함."
   ]
  },
  {
   "cell_type": "markdown",
   "id": "348c4f06-7750-4541-a393-b192afdd0340",
   "metadata": {},
   "source": [
    "## Chapter01 : classical artificial neural network"
   ]
  },
  {
   "cell_type": "markdown",
   "id": "871d8108",
   "metadata": {},
   "source": [
    "## 01.퍼셉트론(Perceptron) : Artificial neuron의 이해"
   ]
  },
  {
   "cell_type": "markdown",
   "id": "392f247d-a7d4-4686-9045-6d50391a742a",
   "metadata": {
    "tags": []
   },
   "source": [
    "### (1) MCP 모형 부터 퍼셉트론 까지\n",
    "퍼셉트론은 1957년 로젠 블릿이 MCP(McCulloch-Pitts)뉴런모형을 기반으로하는 학습알고리즘을 발표하며 탄생하였다. \n",
    "\n",
    "로젠 블릿이 차용한 MCP뉴런모형이란 1943년 월터 피츠(Walter Pitts)와 워렌 맥컬러히(Warren McCulloch)가 뉴런이 수상돌기를 통해 전달된 신호가 임계치 이상으로 전달될 때 전기신호를 출력하는것을 수학적으로 표현한 모델을 의미한다. MPC모형에서 뉴런은 0과1의 이진(binary)값을 여러개 입력받을 수 있고 각 입력 신호에 가중치(weight)를 곱해 누적한 값이 임계값(threshold)을 넘으면 1, 그렇지 않으면 0을 반환한다.\n",
    "<br><br><br>\n",
    "\n",
    "<br><br><br>\n",
    "<div align=\"center\">\n",
    "    <img src=\"https://github.com/int29/PDLP/blob/main/ch01_classical_neural_network/01_01.png?raw=true\" width=\"600\">\n",
    "    <span>[그림01-01]</span>\n",
    "</div>"
   ]
  },
  {
   "cell_type": "markdown",
   "id": "ed64b52b",
   "metadata": {},
   "source": [
    "퍼셉트론은 이러한 선형모형에 활성화 함수를 적용하여 출력값을 계산하고 최적 가중치($w$)와 편향($b$)을 학습하는 퍼셉트론알고리즘을 발표하였다.\n",
    "\n",
    "\n",
    "편향($b$,bias)을 더하는 \n",
    "<br><br><br>\n",
    "<div align=\"center\">\n",
    "    <img src=\"https://github.com/int29/PDLP/blob/main/ch01_classical_neural_network/01_02.png?raw=true\" width=\"900\">\n",
    "    <span>[그림01-02]</span>\n",
    "</div>"
   ]
  },
  {
   "cell_type": "markdown",
   "id": "2220488b",
   "metadata": {},
   "source": [
    "### (2-1) 퍼셉트론의 가중치와 편향 \n",
    "퍼셉트론은 복수의 입력에 개별 가중치를 곱하고 편향을 더한다. 때문에 가중치($w$)에 따라 특정 입력이 활성화에 강하게 영향을 미칠수도 반대로 적게 미치게될 수도 있다. 또한 편향($b$)을 더해주기 때문에 이 편향값에 따라 약한 신호에서도 활성화가 잘될지(민감) 아니면 강한신호에도 활성화가 잘 되지 않을지(둔감)하게 될 수도 있다. \n",
    "\n",
    "* 가중치($w$) : 여러 입력 신호 중 출력신호에 영향을 주는 중요도를 결정한다.\n",
    "* 편향($b$) : 활성함수가 입력신호에 대해 얼마나 민감하게 반응할지 결정한다.\n",
    "\n",
    "입력신호는 $x=[1,1,1]$와 같고 각 입력신호에 전달되는 가중치가 $w=[0.1,0.2,10]$이라면 활성함수에 전달되는 값은 \n",
    "$1\\times0.1 + 1\\times0.2 + 1\\times10$이 될것이다. 따라서 3번째 신호의 가중치가 10이기 때문에 활성화여부에 가장 많은 영향을 주는것을 직관적으로 알 수 있다.\n",
    "\n",
    "이 때 임계치가 $\\theta=15$라면 위 입력신호의 가중합은 10.3이기 때문에 활성화 되지 않을것이다. 하지만 편향 $b=5$ 라면 퍼셉트론의 식에 따라 입력신호의 가중합에 편향5가 더해져 15.5가 되어 임계치 15를 넘기 때문에 이번에는 활성화된 값인 1을 반환할 것이다. 만약 $b=15$라면 가중치가 어떠하든 입력신호가 어떠하든 임계치보다 무조건 높기 때문에 무조건 1을 반환하게 될것이다. 즉 편향($bias$)가 입력신호에 얼마나 민감하게 반응할지를 결정하는 것을 알 수 있다."
   ]
  },
  {
   "cell_type": "markdown",
   "id": "8976794e",
   "metadata": {},
   "source": [
    "### (2-2) 활성화 함수(activation function)\n",
    "활성화 함수(activation function)는 인공신경망에서 입력 신호의 총합을 출력값으로 변환하는 함수이다. 즉 퍼셉트론이 입력값을 계산한 값을 binary값으로 변경해주는 것이다. 가장 기본적인 활성함수는 계단함수(Step Function)이고 이 계단함수를 통해서 작동에 대해 살펴보자\n",
    "\n",
    "계단함수는 매우 간단하다. 계단함수로 입력되는 값이 임계값($\\theta$)보다 높으면 1을 출력하고, 낮으면 0을 출력한다. 위 예시에서 임계값이 15이기 때문에 아래와 같이 표현할 수 있다.\n",
    "<br><br>\n",
    "<div align=\"center\">\n",
    "    <img src=\"https://github.com/int29/PDLP/blob/main/ch01_classical_neural_network/01_05.png?raw=true\" width=\"400\">\n",
    "    <span>[그림01-03]</span>\n",
    "</div>\n",
    "\n",
    "실제 사용가능한 활성화함수는 아래와 같이 매우 다양하며 포함되지 않은 함수들도 존재한다. 만약 맞는 함수가 없다면 직접 만들 수도 있다.\n",
    "\n",
    "<div align=\"center\">\n",
    "    <img src=\"https://github.com/int29/PDLP/blob/main/ch01_classical_neural_network/01_04.png?raw=true\" width=\"400\">\n",
    "    <span>[그림01-04]</span>\n",
    "</div>"
   ]
  },
  {
   "cell_type": "markdown",
   "id": "1205be86",
   "metadata": {},
   "source": [
    "### (2-3) 퍼셉트론의 학습알고리즘\n",
    "\n",
    "퍼셉트론은 학습 알고리즘으로 주어진 데이터와 레이블값을 잘 맞추도록 퍼셉트론 파라미터인 가중치와 편향을 자동으로 학습한다. 퍼셉트론은 Gradient Descent 방식을 통해서 "
   ]
  },
  {
   "cell_type": "markdown",
   "id": "fb72b8d1",
   "metadata": {},
   "source": [
    "## 02. 퍼셉트론(Perceptron) 구현\n",
    "### (1) 파이썬을 통한 AND/OR/NAND 구현\n",
    "파이썬을 통해 계단함수를 활성함수로 사용하는 퍼셉트론을 생성해보고 AND / OR / NAND 문제를 해결해보자\n",
    "AND / OR / NAND 문제는 $x_{1}$, $x_{2}$ 두 개의 입력값에 따라 하나의 출력 $y$를 어떻게 내보낼것인가에 대한 문제이다.  신호를 1과 0으로 표현하고, 입력하는 신호를 처리하는 방법에 따라서 출력 $y$에 신호를 1로 내보낼것인지 0으로 내보낼것인지를 결정한다.\n",
    "\n",
    "<div align=\"center\">\n",
    "    <img src=\"https://github.com/int29/PDLP/blob/main/ch01_classical_neural_network/01_06.png?raw=true\" width=\"700\">\n",
    "    <span>[그림01-05]</span>\n",
    "</div>"
   ]
  },
  {
   "cell_type": "markdown",
   "id": "dcfd987d",
   "metadata": {},
   "source": [
    "3가지 논리게이트를 입력과 출력관계의 2차원 좌표평면상으로 표현하면 그림[01-06]의 오른쪽과 같다.\n",
    "우리의 목표는 2차원 좌표평면상에 $(x_{1},x_{2})=\\{(0,0),(0,1),(1,0),(1,1)\\}$ 4개의 점이 존재할 때 정의한 논리게이트에 맞는 결과를 반환하는 퍼셉트론을 파이썬으로 개발하는 것이다. 예를들면 AND게이트는 $\\{(0,0),(0,1),(1,0),\\}$ 3개의 점은 0으로, $(1,1)$ 1개의 점은 1로 출력하는 퍼셉트론 알고리즘을 학습하고 구현하는 것이다.\n",
    "\n",
    "<div align=\"center\">\n",
    "    <img src=\"https://github.com/int29/PDLP/blob/main/ch01_classical_neural_network/01_07.png?raw=true\" width=\"500\">\n",
    "    <img src=\"https://github.com/int29/PDLP/blob/main/ch01_classical_neural_network/01_08.png?raw=true\" width=\"500\">\n",
    "    <img src=\"https://github.com/int29/PDLP/blob/main/ch01_classical_neural_network/01_09.png?raw=true\" width=\"500\">\n",
    "    <span>[그림01-06]</span>\n",
    "</div>\n"
   ]
  },
  {
   "cell_type": "code",
   "execution_count": 119,
   "id": "344e23ba",
   "metadata": {},
   "outputs": [
    {
     "name": "stderr",
     "output_type": "stream",
     "text": [
      "/var/folders/rb/08hb3q_s6n76kv1h3vkc20lh0000gn/T/ipykernel_31870/1560978546.py:4: MatplotlibDeprecationWarning: The seaborn styles shipped by Matplotlib are deprecated since 3.6, as they no longer correspond to the styles shipped by seaborn. However, they will remain available as 'seaborn-v0_8-<style>'. Alternatively, directly use the seaborn API instead.\n",
      "  plt.style.use('seaborn-pastel')\n",
      "MovieWriter imagemagick unavailable; using Pillow instead.\n"
     ]
    },
    {
     "data": {
      "image/png": "[encoded data removed]",
      "text/plain": [
       "<Figure size 640x480 with 1 Axes>"
      ]
     },
     "metadata": {},
     "output_type": "display_data"
    }
   ],
   "source": [
    "import numpy as np\n",
    "from matplotlib import pyplot as plt\n",
    "from matplotlib.animation import FuncAnimation\n",
    "plt.style.use('seaborn-pastel')\n",
    "\n",
    "\n",
    "fig = plt.figure()\n",
    "ax = plt.axes(xlim=(0, 4), ylim=(-2, 2))\n",
    "line, = ax.plot([], [], lw=3)\n",
    "\n",
    "def init():\n",
    "    line.set_data([], [])\n",
    "    return line,\n",
    "\n",
    "def animate(i):\n",
    "    x = np.linspace(0, 4, 1000)\n",
    "    y = np.sin(2 * np.pi * (x - 0.01 * i))\n",
    "    line.set_data(x, y)\n",
    "    return line,\n",
    "\n",
    "anim = FuncAnimation(fig, animate, init_func=init,\n",
    "                               frames=200, interval=20, blit=True)\n",
    "\n",
    "\n",
    "anim.save('sine_wave.gif', writer='imagemagick')"
   ]
  },
  {
   "cell_type": "code",
   "execution_count": 102,
   "id": "141ae153",
   "metadata": {},
   "outputs": [],
   "source": [
    "import numpy as np\n",
    "\n",
    "def perceptron(x, w, b, logic):\n",
    "    \"\"\"\n",
    "    파라미터\n",
    "    ----------\n",
    "    X : {array-like}, shape = [입력횟수, 게이트수] : 입력값\n",
    "    Exameples : AND문제의 경우 총 4번의 신호를 전송하고 2개의 게이트를 통해 입력하기 때문에 입력값은 shape는 [4,2]가 된다.\n",
    "    array([[0, 0],\n",
    "           [0, 1],\n",
    "           [1, 0],\n",
    "           [1, 1]])\n",
    "       \n",
    "    w : array-like, shape = [입력횟수, 게이트수] : 가중치\n",
    "    Exameples : AND문제의 경우 총 4번의 신호를 전송하고 각 신호마다 가중치가 필요하기 때문에 shape는 [2,1]가 된다\n",
    "    array([[0.5],\n",
    "           [0.5]])\n",
    "    \n",
    "    b : {int} : 퍼셉트론의 편향(bias) 값\n",
    "    \n",
    "    출력값\n",
    "    -------\n",
    "    y : {int} 1 혹은 0 값을 출력함\n",
    "    \"\"\"\n",
    "    \n",
    "    # 입력벡터 x와 가중치벡터 w를 곱한값에 편향을 더하는 과정\n",
    "    y =  np.sum(w.T*x + b, axis=1, keepdims=True) \n",
    "    \n",
    "    \n",
    "    # 활성화 함수 (계단함수)\n",
    "    # 입력한 값이 1이면 1 아니면 0으로 반환함.\n",
    "    \n",
    "    if logic == 'AND': \n",
    "        result = np.where(y>=1 ,1,0)\n",
    "    elif logic == 'OR':\n",
    "        result = np.where(y>=0.5 ,1,0)\n",
    "    elif logic == 'NAND':\n",
    "        result = np.where(y < 1 ,1,0)\n",
    "    return result"
   ]
  },
  {
   "cell_type": "code",
   "execution_count": 103,
   "id": "6912a025",
   "metadata": {},
   "outputs": [],
   "source": [
    "## 데이터 정의\n",
    "# 입력값\n",
    "x = np.array([[0, 0], [0, 1], [1, 0], [1, 1]])\n",
    "\n",
    "# 가중치\n",
    "w = np.array([[0.5],[0.5]])\n",
    "\n",
    "# 편향\n",
    "b = 0"
   ]
  },
  {
   "cell_type": "code",
   "execution_count": 107,
   "id": "2288d506",
   "metadata": {},
   "outputs": [
    {
     "data": {
      "text/plain": [
       "array([[0],\n",
       "       [0],\n",
       "       [0],\n",
       "       [1]])"
      ]
     },
     "execution_count": 107,
     "metadata": {},
     "output_type": "execute_result"
    }
   ],
   "source": [
    "# 결과 AND\n",
    "perceptron(x, w, b, \"AND\")"
   ]
  },
  {
   "cell_type": "code",
   "execution_count": 108,
   "id": "d9fbffde",
   "metadata": {},
   "outputs": [
    {
     "data": {
      "text/plain": [
       "array([[0],\n",
       "       [1],\n",
       "       [1],\n",
       "       [1]])"
      ]
     },
     "execution_count": 108,
     "metadata": {},
     "output_type": "execute_result"
    }
   ],
   "source": [
    "# 결과 OR\n",
    "perceptron(x, w, b, \"OR\")"
   ]
  },
  {
   "cell_type": "code",
   "execution_count": 109,
   "id": "8e44e188",
   "metadata": {},
   "outputs": [
    {
     "data": {
      "text/plain": [
       "array([[1],\n",
       "       [1],\n",
       "       [1],\n",
       "       [0]])"
      ]
     },
     "execution_count": 109,
     "metadata": {},
     "output_type": "execute_result"
    }
   ],
   "source": [
    "# 결과 NAND\n",
    "perceptron(x, w, b, \"NAND\")"
   ]
  },
  {
   "cell_type": "markdown",
   "id": "059c769f",
   "metadata": {},
   "source": [
    "위와 같이 동일한 입력값에 대해 각 논리게이트에 따른 출력값이 분류되는것을 확인할 수 있다. 그런데 우리가 구현한 퍼셉트론은 가중치와 편향을 0.5와 0으로 고정하였던 결과였다. 실제 퍼셉트론은 학습알고리즘으로 데이터에 따라서 파라미터인 가중치와 편향을 자동으로 조정해야 하기 때문에 데이터에 맞는 퍼셉트론 파라미터인 가중치와 편향을 자동으로 학습하는 학습알고리즘에 대해서 살펴보자"
   ]
  },
  {
   "cell_type": "markdown",
   "id": "55f9ae24",
   "metadata": {},
   "source": [
    "### 퍼셉트론 학습알고리즘"
   ]
  },
  {
   "cell_type": "code",
   "execution_count": null,
   "id": "a89b9b90",
   "metadata": {},
   "outputs": [],
   "source": []
  },
  {
   "cell_type": "code",
   "execution_count": null,
   "id": "75937623",
   "metadata": {},
   "outputs": [],
   "source": []
  },
  {
   "cell_type": "code",
   "execution_count": null,
   "id": "e2fd695d",
   "metadata": {},
   "outputs": [],
   "source": [
    "\n",
    "\\begin{equation}\n",
    "  f(x)=\\left\\{\n",
    "  \\begin{array}{@{}ll@{}}\n",
    "    0, & \\text{if}\\ & w_{1}x_{1} + w_{2}x_{2} + ... w_{n}x_{n} + b < \\theta \\\\\n",
    "    1, & \\text{if} \\ & w_{1}x_{1} + w_{2}x_{2} + ... w_{n}x_{n} + b >= \\theta \\\\\n",
    "  \\end{array}\\right.\n",
    "\\end{equation} \n",
    "\n",
    "\n",
    "\\begin{align*}\n",
    "  f(x) &= \\sum_{i=1}^{N} w_{i}x_{i} +b\n",
    "\\end{align*}"
   ]
  },
  {
   "cell_type": "markdown",
   "id": "530ee3bf-363c-47ea-9e56-4ff98d40d32b",
   "metadata": {
    "tags": []
   },
   "source": [
    "#### 인용출처\n",
    "$^{[1]}$ : 파이썬 머신러닝(2016),세바스티안 라슈카,지앤선,PACKT, 17p~18p\n",
    "\n",
    "<원문>\n",
    "\n",
    "워런 맥컬럭과 월터 피츠가 맥컬럭-피츠(MCP) 뉴런이라고 불리는 단순화된 뇌 세포의 개념을 1943년 처음 발표하면서 시작되었다.(A Logical Calculus of the Ideas Immanent in Nervous Activity by W. S. McCulloch and W. Pitts, Bulletin of Mathematical Biophysics, 5(4): 115-133, 1943), 메컬렉과 피츠는 이러한 신경세포를 바이너리 출력을 갖는 간단한 논리 게이트로 설명했다. 복수의 신호가 수상돌기에 도달하면 세포체에 통합된다. 그리고 신호가 누적되어 특정 임계치를 초과하면 출력 신호가 생성되고 축색돌기를 지나간다.\n",
    "\n",
    "**참고문헌**\n",
    "1. 파이썬 머신러닝(2016),세바스티안 라슈카,지앤선,PACKT\n",
    "2. 밑바닥부터 시작하는 딥러닝(2021), 사이토 코기, 한빛미디어\n",
    "3. Machine Learning with R Second Edition(2015), Brett Lantz, Packt\n",
    "\n",
    "#### 이미지 및 자료 출처\n",
    "[그림01-01] : 비상학습백과 중학교 과학 ② 뉴런(https://terms.naver.com/entry.naver?docId=3379489&cid=47339&categoryId=47339)<br>\n",
    "[그림01-05] : Machine Learning with R Second Edition(2015), Brett Lantz, Packt<br>"
   ]
  },
  {
   "cell_type": "code",
   "execution_count": null,
   "id": "fede14ed",
   "metadata": {},
   "outputs": [],
   "source": []
  }
 ],
 "metadata": {
  "kernelspec": {
   "display_name": "jupyter",
   "language": "python",
   "name": "jupyter"
  },
  "language_info": {
   "codemirror_mode": {
    "name": "ipython",
    "version": 3
   },
   "file_extension": ".py",
   "mimetype": "text/x-python",
   "name": "python",
   "nbconvert_exporter": "python",
   "pygments_lexer": "ipython3",
   "version": "3.10.9"
  }
 },
 "nbformat": 4,
 "nbformat_minor": 5
}
