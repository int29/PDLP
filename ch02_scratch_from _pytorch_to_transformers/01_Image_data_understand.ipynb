{
 "cells": [
  {
   "cell_type": "code",
   "execution_count": 1,
   "id": "bbedc2f1-11a4-4b78-849e-972ecf95483b",
   "metadata": {},
   "outputs": [],
   "source": [
    "import os\n",
    "import sys\n",
    "from pathlib import Path\n",
    "\n",
    "import numpy as np\n",
    "import matplotlib.pyplot as plt\n",
    "\n",
    "import torch\n",
    "import torchvision\n",
    "import tarfile\n",
    "from torchvision.datasets.utils import download_url\n",
    "from torch.utils.data import random_split\n",
    "\n",
    "from torchvision.datasets import ImageFolder\n",
    "from torchvision.transforms import ToTensor\n",
    "%matplotlib inline"
   ]
  },
  {
   "cell_type": "markdown",
   "id": "604af04d-7830-41b4-bf26-7fca61c94b2a",
   "metadata": {},
   "source": [
    "### cifar10 데이터셋 다운로드"
   ]
  },
  {
   "cell_type": "code",
   "execution_count": 2,
   "id": "c48cfb17-76dd-4d09-92b6-6354832eb006",
   "metadata": {},
   "outputs": [
    {
     "name": "stdout",
     "output_type": "stream",
     "text": [
      "Using downloaded and verified file: ./cifar10.tgz\n"
     ]
    }
   ],
   "source": [
    "# 데이터 다운로드 하기\n",
    "dataset_url = \"https://s3.amazonaws.com/fast-ai-imageclas/cifar10.tgz\"\n",
    "download_url(dataset_url, '.')\n",
    "\n",
    "#tgz 파일 압축 풀기\n",
    "with tarfile.open('./cifar10.tgz', 'r:gz') as tar:\n",
    "    tar.extractall(path='.')"
   ]
  },
  {
   "cell_type": "markdown",
   "id": "01f87e8e-07af-43cf-82a1-fa2593f65683",
   "metadata": {},
   "source": [
    "### 데이터 경로 및 디렉토리 구조 확인"
   ]
  },
  {
   "cell_type": "code",
   "execution_count": 3,
   "id": "2324bde1-9990-4cac-bc0c-e946de0f1787",
   "metadata": {},
   "outputs": [
    {
     "name": "stdout",
     "output_type": "stream",
     "text": [
      "'./cifar10' 에는 ['.DS_Store', 'test', 'train'] 디렉토리가 존재합니다.\n",
      "\n",
      "train 디렉토리 안에는 \n",
      " ['cat', '.DS_Store', 'dog', 'truck', 'bird', 'airplane', 'ship', 'frog', 'horse', 'deer', 'automobile'] \n",
      " 디렉토리가 존재하며, 각 디렉토리에는 레이블에 해당하는 이미지데이터가 존재 합니다.\n"
     ]
    }
   ],
   "source": [
    "data_dir = './cifar10'\n",
    "print(f\"'{data_dir}' 에는 {os.listdir(data_dir)} 디렉토리가 존재합니다.\")\n",
    "print(\"\")\n",
    "classes = os.listdir(data_dir + \"/train\")\n",
    "print(f\"train 디렉토리 안에는 \\n {classes} \\n 디렉토리가 존재하며, 각 디렉토리에는 레이블에 해당하는 이미지데이터가 존재 합니다.\")\n",
    "# '.DS_Store' 은 OSX 시스템파일로 고려 안해도됨."
   ]
  },
  {
   "cell_type": "code",
   "execution_count": 4,
   "id": "8eab8249-2949-4a13-963e-fdfda914d620",
   "metadata": {},
   "outputs": [
    {
     "data": {
      "text/plain": [
       "Dataset ImageFolder\n",
       "    Number of datapoints: 50000\n",
       "    Root location: ./cifar10/train\n",
       "    StandardTransform\n",
       "Transform: ToTensor()"
      ]
     },
     "execution_count": 4,
     "metadata": {},
     "output_type": "execute_result"
    }
   ],
   "source": [
    "# 이미지 폴더 전체를 pytorch dataset으로 만든다\n",
    "dataset = ImageFolder(data_dir+'/train', transform=ToTensor())\n",
    "dataset"
   ]
  },
  {
   "cell_type": "code",
   "execution_count": 5,
   "id": "1424e4c5-7d90-4925-a273-c2ac39f41557",
   "metadata": {},
   "outputs": [
    {
     "data": {
      "text/plain": [
       "<matplotlib.image.AxesImage at 0x154351690>"
      ]
     },
     "execution_count": 5,
     "metadata": {},
     "output_type": "execute_result"
    },
    {
     "data": {
      "image/png": "[encoded data removed]",
      "text/plain": [
       "<Figure size 640x480 with 1 Axes>"
      ]
     },
     "metadata": {},
     "output_type": "display_data"
    }
   ],
   "source": [
    "# 33번 이미지 한번 살펴보기\n",
    "img, label = dataset[33]\n",
    "plt.imshow(img.permute(1, 2, 0))"
   ]
  },
  {
   "attachments": {},
   "cell_type": "markdown",
   "id": "5f369806-49b8-408f-86e9-ac33d2421707",
   "metadata": {},
   "source": [
    "### 이미지 데이터\n",
    "### 0단계 : cifar10를 통해 이미지 데이터 구조 이해하기\n",
    "\n",
    "이미지 데이터는 픽셀이라고 부르는 단위안에 숫자로 구성된 데이터이다. cifar10 데이터는 가로32, 세로32의 크기를 갖는 이미지 데이터로 총 `32*32 = 1024` 개의 픽셀이 존재하는 데이터라고 볼 수 있다. 좌측은 실제 이미지 데이터를 숫자로 배열해 놓은것으로 가로32, 세로32의 행렬로 표현이 가능한 것을 확인할 수 있다.\n",
    "\n"
   ]
  },
  {
   "cell_type": "markdown",
   "id": "2a6a6319-aa7c-49a4-bd3b-bd8a73ac3326",
   "metadata": {},
   "source": [
    "<div align=\"center\"><img src=\"https://github.com/int29/PDLP/blob/main/imgs/pytorch_01_01.png?raw=true\" width=\"90%\"></div>"
   ]
  },
  {
   "cell_type": "code",
   "execution_count": 6,
   "id": "8dc9c12a-e0d5-4d31-ad65-daafaf932b26",
   "metadata": {},
   "outputs": [
    {
     "data": {
      "text/plain": [
       "tensor([[[0.8863, 0.8863, 0.8902,  ..., 0.7333, 0.7569, 0.7569],\n",
       "         [0.8941, 0.8902, 0.8902,  ..., 0.7686, 0.7765, 0.7765],\n",
       "         [0.8902, 0.8824, 0.8745,  ..., 0.8275, 0.8275, 0.8196],\n",
       "         ...,\n",
       "         [0.5608, 0.4980, 0.5216,  ..., 0.4392, 0.4235, 0.4157],\n",
       "         [0.4353, 0.4157, 0.4314,  ..., 0.4000, 0.3961, 0.3961],\n",
       "         [0.4667, 0.4392, 0.4471,  ..., 0.4196, 0.4196, 0.4235]],\n",
       "\n",
       "        [[0.9020, 0.9020, 0.9059,  ..., 0.7765, 0.8000, 0.8039],\n",
       "         [0.9098, 0.9059, 0.9059,  ..., 0.8078, 0.8118, 0.8196],\n",
       "         [0.9059, 0.8980, 0.8941,  ..., 0.8667, 0.8667, 0.8667],\n",
       "         ...,\n",
       "         [0.6196, 0.5608, 0.5804,  ..., 0.4510, 0.4353, 0.4314],\n",
       "         [0.4627, 0.4431, 0.4588,  ..., 0.4078, 0.4039, 0.4078],\n",
       "         [0.4706, 0.4431, 0.4510,  ..., 0.4275, 0.4275, 0.4275]],\n",
       "\n",
       "        [[0.9137, 0.9137, 0.9176,  ..., 0.8549, 0.8784, 0.8667],\n",
       "         [0.9216, 0.9176, 0.9176,  ..., 0.8627, 0.8667, 0.8588],\n",
       "         [0.9176, 0.9098, 0.9059,  ..., 0.8941, 0.8980, 0.8824],\n",
       "         ...,\n",
       "         [0.6039, 0.5373, 0.5569,  ..., 0.3686, 0.3529, 0.3490],\n",
       "         [0.4275, 0.4039, 0.4157,  ..., 0.3216, 0.3176, 0.3176],\n",
       "         [0.4157, 0.3843, 0.3843,  ..., 0.3451, 0.3412, 0.3333]]])"
      ]
     },
     "execution_count": 6,
     "metadata": {},
     "output_type": "execute_result"
    }
   ],
   "source": [
    "# 실제 img는 그림과 같이 숫자로 된것을 확인할 수 있다.\n",
    "img"
   ]
  },
  {
   "cell_type": "markdown",
   "id": "c42745d1-f9bd-4224-a440-c62a5d3b73db",
   "metadata": {},
   "source": [
    "그렇다면 32x32로 표현된 데이터 속 숫자는 무엇을 의미할까? 바로 각 픽셀이 갖는 색상값을 의미한다. (사진 편집프로그램에서 자주 사용하는 기능처럼 이미지는 채널이라는 RGB 3원색의 조합값으로 모든 색상을 표현한다.)"
   ]
  },
  {
   "cell_type": "markdown",
   "id": "acebfda2-2803-4f05-a8cf-2f4dcf5623e8",
   "metadata": {},
   "source": [
    "<div align=\"center\"><img src=\"https://github.com/int29/PDLP/blob/main/imgs/pytorch_01_00.png?raw=true\" width=\"70%\"></div>"
   ]
  },
  {
   "cell_type": "markdown",
   "id": "b21ae7a3-75c1-4b39-9a99-23706999707d",
   "metadata": {},
   "source": [
    "1픽셀은 아래 그림처럼 3개의 채널 값을 갖고 32*32개의 픽셀로 구성된 이미지는 R(빨강의 정도), G(초록의 정도), B(파랑의 정도) 3개의 판으로 구성된 것이나 마찬가지인 셈이다. 이것을 수학적으로는 너비(W),높이(H),채널(C)의 `3차원 텐서`라고 부르며 이미지 데이터는 너비(W),높이(H),채널(C)의 3차원 데이터로 표현할 수 있다.\n",
    "\n",
    "(텐서 외에 Array라고도 부르나, 딥러닝에서는 텐서라는 용어를 관습적으로 사용한다.)"
   ]
  },
  {
   "cell_type": "code",
   "execution_count": 7,
   "id": "aae8758d-2bc2-4097-ba74-afefbe49eb23",
   "metadata": {},
   "outputs": [
    {
     "data": {
      "text/plain": [
       "torch.Size([3, 32, 32])"
      ]
     },
     "execution_count": 7,
     "metadata": {},
     "output_type": "execute_result"
    }
   ],
   "source": [
    "# 이미지 데이터의 차원 살펴보기 \n",
    "img.shape"
   ]
  },
  {
   "cell_type": "markdown",
   "id": "0eed01d3-2702-48da-9383-11b85793976b",
   "metadata": {},
   "source": [
    "<div align=\"center\"><img src=\"https://github.com/int29/PDLP/blob/main/imgs/pytorch_01_03.png?raw=true\" width=\"80%\"></div>"
   ]
  },
  {
   "attachments": {},
   "cell_type": "markdown",
   "id": "92476acb-9b7c-4aa6-b066-97b4e3632740",
   "metadata": {},
   "source": [
    "만약 각각의 판을 0으로 만들면 어떻게 되는지 확인해보자.\n",
    "\n",
    "R채널을 제외하고 모두 0으로 만든다면 아래와 같이 붉은색만 존재하는 그림으로 표현되는 것을 확인할 수 있다.\n",
    "<div align=\"center\"><img src=\"https://github.com/int29/PDLP/blob/main/imgs/pytorch_01_06.png?raw=true\" width=\"80%\"></div>\n",
    "\n",
    "G채널을 제외하고 모두 0으로 만든다면 아래와 같이 초록색만 존재하는 그림으로 표현되는 것을 확인할 수 있다.\n",
    "<div align=\"center\"><img src=\"https://github.com/int29/PDLP/blob/main/imgs/pytorch_01_05.png?raw=true\" width=\"80%\"></div>\n",
    "\n",
    "B채널을 제외하고 모두 0으로 만든다면 아래와 같이 파란색만 존재하는 그림으로 표현되는 것을 확인할 수 있다.\n",
    "<div align=\"center\"><img src=\"https://github.com/int29/PDLP/blob/main/imgs/pytorch_01_04.png?raw=true\" width=\"80%\"></div>"
   ]
  },
  {
   "cell_type": "code",
   "execution_count": 8,
   "id": "3030ffa9-2eb4-4367-b4da-704489001902",
   "metadata": {},
   "outputs": [],
   "source": [
    "# 각 채널을 분리하고, 나머지 채널을 0으로 설정\n",
    "R_channel = img.clone()                    # img텐서 복사\n",
    "R_channel[1, :, :] = 0  # G 채널을 0으로\n",
    "R_channel[2, :, :] = 0  # B 채널을 0으로\n",
    "R_channel = R_channel.permute(1, 2, 0)     # C, H, W 순서를 H, W, C로 변경 (시각화 때문에)\n",
    "\n",
    "G_channel = img.clone()                    # img텐서 복사\n",
    "G_channel[0, :, :] = 0  # R 채널을 0으로\n",
    "G_channel[2, :, :] = 0  # B 채널을 0으로\n",
    "G_channel = G_channel.permute(1, 2, 0)     # C, H, W 순서를 H, W, C로 변경 (시각화 때문에)\n",
    "\n",
    "B_channel = img.clone()                    # img텐서 복사\n",
    "B_channel[0, :, :] = 0  # R 채널을 0으로\n",
    "B_channel[1, :, :] = 0  # G 채널을 0으로\n",
    "B_channel = B_channel.permute(1, 2, 0)     # C, H, W 순서를 H, W, C로 변경 (시각화 때문에)"
   ]
  },
  {
   "cell_type": "code",
   "execution_count": 9,
   "id": "4a4a4242-6619-4f03-b4b7-cfb5ff3dd1c7",
   "metadata": {},
   "outputs": [
    {
     "data": {
      "image/png": "[encoded data removed]",
      "text/plain": [
       "<Figure size 1500x500 with 3 Axes>"
      ]
     },
     "metadata": {},
     "output_type": "display_data"
    }
   ],
   "source": [
    "# 이미지 시각화\n",
    "fig, axs = plt.subplots(1, 3, figsize=(15, 5))  # 축 제거 3개의 사진을 표시할 수 있도록 subplot생성\n",
    "\n",
    "axs[0].imshow(R_channel)  # 첫 번째 서브플롯에 R_channel 시각화\n",
    "axs[1].imshow(G_channel)  # 두 번째 서브플롯에 G_channel 시각화\n",
    "axs[2].imshow(B_channel)  # 세 번째 서브플롯에 B_channel 시각화\n",
    "\n",
    "# 서브플롯의 레이아웃 조정\n",
    "plt.tight_layout()\n",
    "plt.show()"
   ]
  },
  {
   "attachments": {},
   "cell_type": "markdown",
   "id": "d16f15d3-d549-43c9-8ba5-23073338aa21",
   "metadata": {},
   "source": [
    "### 결론요약 : 이미지 데이터는\n",
    "이미지는 가로(W), 높이(H), 채널(C)이라는 3차원의 어레이(Array)로 숫자표현이 가능하고 PyTorch,Tensorflow와 같은 딥러닝 프레임워크는 텐서(Tensor)라는 다차원 텐서 Array로 처리하고 계산함. \n",
    "<div align=\"center\"><img src=\"https://github.com/int29/PDLP/blob/main/imgs/pytorch_01_07.png?raw=true\" width=\"80%\"></div>\n",
    "\n",
    "이미지를 텐서라는 다차원 Array로 표현이 가능하다는 것은 이미지를 좌표 평면 상에 한 점으로 표시가 가능하다는 것\n",
    "좌표 평면 상에 한 점으로 표시가 가능한 것은 계산이 가능하다는 것을 의미한다.\n",
    "\n",
    "<div align=\"center\"><img src=\"https://github.com/int29/PDLP/blob/main/imgs/pytorch_01_08.png?raw=true\" width=\"80%\"></div>"
   ]
  },
  {
   "cell_type": "code",
   "execution_count": 10,
   "id": "e9a06be7-c469-4b95-9ac8-48f67cc3eb9d",
   "metadata": {},
   "outputs": [],
   "source": [
    "#<EOD>"
   ]
  }
 ],
 "metadata": {
  "kernelspec": {
   "display_name": "image",
   "language": "python",
   "name": "image"
  },
  "language_info": {
   "codemirror_mode": {
    "name": "ipython",
    "version": 3
   },
   "file_extension": ".py",
   "mimetype": "text/x-python",
   "name": "python",
   "nbconvert_exporter": "python",
   "pygments_lexer": "ipython3",
   "version": "3.11.5"
  }
 },
 "nbformat": 4,
 "nbformat_minor": 5
}
